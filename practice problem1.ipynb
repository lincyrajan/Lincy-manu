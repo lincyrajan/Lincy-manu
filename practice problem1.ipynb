{
 "cells": [
  {
   "cell_type": "code",
   "execution_count": 1,
   "id": "38754e55",
   "metadata": {},
   "outputs": [],
   "source": [
    "x=3"
   ]
  },
  {
   "cell_type": "code",
   "execution_count": 2,
   "id": "39daa4c7",
   "metadata": {},
   "outputs": [
    {
     "ename": "NameError",
     "evalue": "name 'factorial' is not defined",
     "output_type": "error",
     "traceback": [
      "\u001b[1;31m---------------------------------------------------------------------------\u001b[0m",
      "\u001b[1;31mNameError\u001b[0m                                 Traceback (most recent call last)",
      "Cell \u001b[1;32mIn[2], line 1\u001b[0m\n\u001b[1;32m----> 1\u001b[0m factorial(x)\n",
      "\u001b[1;31mNameError\u001b[0m: name 'factorial' is not defined"
     ]
    }
   ],
   "source": [
    "factorial(x)"
   ]
  },
  {
   "cell_type": "code",
   "execution_count": null,
   "id": "526b2ca5",
   "metadata": {},
   "outputs": [],
   "source": [
    "import math as m"
   ]
  },
  {
   "cell_type": "code",
   "execution_count": 3,
   "id": "c0653828",
   "metadata": {},
   "outputs": [
    {
     "name": "stdout",
     "output_type": "stream",
     "text": [
      "Enter the radius of the circle:3\n",
      "Area of the circle: 28.274333882308138\n"
     ]
    }
   ],
   "source": [
    "from math import pi\n",
    "r=float(input(\"Enter the radius of the circle:\"))\n",
    "b=pi*r**2\n",
    "print(\"Area of the circle:\",b)"
   ]
  },
  {
   "cell_type": "code",
   "execution_count": 10,
   "id": "54ce37b3",
   "metadata": {},
   "outputs": [
    {
     "name": "stdout",
     "output_type": "stream",
     "text": [
      "Enter the Name of studentAnisha\n",
      "Enter the rollno21\n",
      "Enter the marks78\n",
      "Name is: Anisha\n",
      "rollno is: 21\n",
      "marks: 78\n"
     ]
    }
   ],
   "source": [
    "name=input(\"Enter the Name of student\")\n",
    "rollno=input(\"Enter the rollno\")\n",
    "marks=input(\"Enter the marks\")\n",
    "\n",
    "print(\"Name is:\", name)\n",
    "print(\"rollno is:\",rollno)\n",
    "print(\"marks:\",marks)"
   ]
  },
  {
   "cell_type": "code",
   "execution_count": 13,
   "id": "9e12be9a",
   "metadata": {},
   "outputs": [],
   "source": [
    "list1=[12,3,47,10]"
   ]
  },
  {
   "cell_type": "code",
   "execution_count": 18,
   "id": "fe71b04f",
   "metadata": {},
   "outputs": [
    {
     "data": {
      "text/plain": [
       "47"
      ]
     },
     "execution_count": 18,
     "metadata": {},
     "output_type": "execute_result"
    }
   ],
   "source": [
    "max(list)"
   ]
  },
  {
   "cell_type": "code",
   "execution_count": 20,
   "id": "68c92609",
   "metadata": {},
   "outputs": [
    {
     "name": "stdout",
     "output_type": "stream",
     "text": [
      "Current number 0 Previous Number 0 is 0\n",
      "Current number 1 Previous Number 0 is 1\n",
      "Current number 2 Previous Number 1 is 3\n",
      "Current number 3 Previous Number 2 is 5\n",
      "Current number 4 Previous Number 3 is 7\n",
      "Current number 5 Previous Number 4 is 9\n",
      "Current number 6 Previous Number 5 is 11\n",
      "Current number 7 Previous Number 6 is 13\n",
      "Current number 8 Previous Number 7 is 15\n",
      "Current number 9 Previous Number 8 is 17\n",
      "Current number 10 Previous Number 9 is 19\n"
     ]
    }
   ],
   "source": [
    "previous_num = 0\n",
    "for i in range(11):\n",
    "    sum = previous_num + i\n",
    "    print(f'Current number {i} Previous Number {previous_num} is {sum}')\n",
    "    previous_num = i"
   ]
  },
  {
   "cell_type": "code",
   "execution_count": 35,
   "id": "fe5c8478",
   "metadata": {},
   "outputs": [
    {
     "name": "stdout",
     "output_type": "stream",
     "text": [
      "10\n",
      "20\n",
      "55\n"
     ]
    }
   ],
   "source": [
    "y = [10,20,33,46,55]\n",
    "for x in y:\n",
    "  if(x%5==0):\n",
    "    print(x)"
   ]
  },
  {
   "cell_type": "markdown",
   "id": "bc3f1fd0",
   "metadata": {},
   "source": [
    "#num=int(input(\"Enter a number:\"))\n",
    " if num==1:\n",
    " print(num,\"is nat a prime munber\")\n",
    " elif num>1:\n",
    " \n",
    " for i in range(2,num):\n",
    " if (num % i) == 0:\n",
    "            # if factor is found, set flag to True\n",
    "            flag = True\n",
    "            # break out of loop\n",
    "            break\n",
    "\n",
    "    # check if flag is True\n",
    "    if flag:\n",
    "        print(num, \"is not a prime number\")\n",
    "    else:\n",
    "        print(num, \"is a prime number\")"
   ]
  },
  {
   "cell_type": "code",
   "execution_count": 38,
   "id": "c975d383",
   "metadata": {},
   "outputs": [
    {
     "name": "stdout",
     "output_type": "stream",
     "text": [
      "3 is a prime number\n"
     ]
    }
   ],
   "source": [
    "# Program to check if a number is prime or not\n",
    "\n",
    "num = 3\n",
    "\n",
    "# To take input from the user\n",
    "#num = int(input(\"Enter a number: \"))\n",
    "\n",
    "# define a flag variable\n",
    "flag = False\n",
    "\n",
    "if num == 1:\n",
    "    print(num, \"is not a prime number\")\n",
    "elif num > 1:\n",
    "    # check for factors\n",
    "    for i in range(2, num):\n",
    "        if (num % i) == 0:\n",
    "            # if factor is found, set flag to True\n",
    "            flag = True\n",
    "            # break out of loop\n",
    "            break\n",
    "\n",
    "    # check if flag is True\n",
    "    if flag:\n",
    "        print(num, \"is not a prime number\")\n",
    "    else:\n",
    "        print(num, \"is a prime number\")\n",
    "        "
   ]
  },
  {
   "cell_type": "code",
   "execution_count": 46,
   "id": "ed93f4ed",
   "metadata": {},
   "outputs": [
    {
     "name": "stdout",
     "output_type": "stream",
     "text": [
      "Original List: [10, 40, 30, 70]\n",
      "Reversed List: [70, 30, 40, 10]\n"
     ]
    }
   ],
   "source": [
    "my_list = [10,40,30,70]\n",
    "r_list = []\n",
    "\n",
    "for i in range(len(my_list)-1,-1,-1):\n",
    "    r_list.append(my_list[i])\n",
    "\n",
    "print(f\"Original List: {my_list}\")\n",
    "print(f\"Reversed List: {r_list}\")"
   ]
  },
  {
   "cell_type": "code",
   "execution_count": 67,
   "id": "21945037",
   "metadata": {},
   "outputs": [
    {
     "name": "stdout",
     "output_type": "stream",
     "text": [
      "* \r\n",
      "* * \r\n",
      "* * * \r\n",
      "* * * * \r\n"
     ]
    }
   ],
   "source": [
    "rows=4\n",
    "for i in range(0,rows):\n",
    "    for j in range(0,i+1):\n",
    "        print(\"*\",end=' ')\n",
    "           \n",
    "    print(\"\\r\")"
   ]
  },
  {
   "cell_type": "code",
   "execution_count": 68,
   "id": "68cdd990",
   "metadata": {},
   "outputs": [],
   "source": [
    "list=[34,12,7]"
   ]
  },
  {
   "cell_type": "code",
   "execution_count": 69,
   "id": "8efc51ab",
   "metadata": {},
   "outputs": [],
   "source": [
    "list.sort()"
   ]
  },
  {
   "cell_type": "code",
   "execution_count": 71,
   "id": "d3ccfae4",
   "metadata": {},
   "outputs": [
    {
     "name": "stdout",
     "output_type": "stream",
     "text": [
      "34\n"
     ]
    }
   ],
   "source": [
    "print(max(34,12,7))"
   ]
  },
  {
   "cell_type": "code",
   "execution_count": 72,
   "id": "269e620b",
   "metadata": {},
   "outputs": [
    {
     "name": "stdout",
     "output_type": "stream",
     "text": [
      "* \r\n",
      "* * \r\n",
      "* * * \r\n",
      "* * * * \r\n",
      "* * * * * \r\n",
      "* * * * \r\n",
      "* * * \r\n",
      "* * \r\n",
      "* \r\n",
      "\r\n"
     ]
    }
   ],
   "source": [
    "rows = 5\n",
    "for i in range(0, rows):\n",
    "    for j in range(0, i + 1):\n",
    "        print(\"*\", end=' ')\n",
    "    print(\"\\r\")\n",
    "\n",
    "for i in range(rows, 0, -1):\n",
    "    for j in range(0, i - 1):\n",
    "        print(\"*\", end=' ')\n",
    "    print(\"\\r\")"
   ]
  },
  {
   "cell_type": "code",
   "execution_count": null,
   "id": "c0238467",
   "metadata": {},
   "outputs": [],
   "source": []
  }
 ],
 "metadata": {
  "kernelspec": {
   "display_name": "Python 3 (ipykernel)",
   "language": "python",
   "name": "python3"
  },
  "language_info": {
   "codemirror_mode": {
    "name": "ipython",
    "version": 3
   },
   "file_extension": ".py",
   "mimetype": "text/x-python",
   "name": "python",
   "nbconvert_exporter": "python",
   "pygments_lexer": "ipython3",
   "version": "3.11.3"
  }
 },
 "nbformat": 4,
 "nbformat_minor": 5
}
